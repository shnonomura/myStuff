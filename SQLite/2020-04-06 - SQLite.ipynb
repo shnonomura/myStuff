{
 "cells": [
  {
   "cell_type": "markdown",
   "metadata": {},
   "source": [
    "# SQLITE\n",
    "\n",
    "SQLite é o mais usada ferramenta para Base de Dados do mundo. Está embutido em todos os telefones móveis e a maior dos computadores e vem encapsulado em uma incontável outras aplicações cujos usuários utilizam todos os dias. Ela tem a implementação SQL completa.\n",
    "\n",
    "O SQLite se esforça para fornecer armazenamento de dados local para aplicativos e dispositivos individuais. O SQLite enfatiza economia, eficiência, confiabilidade, independência e simplicidade.\n",
    "\n",
    "O SQLite não compete com os bancos de dados cliente / servidor. O SQLite compete com fopen ().\n",
    "\n",
    "Além das funções principais, existem as funções Date & Time , aggregate , window e JSON. Funções adicionais escritas em C podem ser adicionadas para seu sistema de base de dados utilizando a API sqlite3_create_function()."
   ]
  },
  {
   "cell_type": "code",
   "execution_count": null,
   "metadata": {},
   "outputs": [],
   "source": []
  }
 ],
 "metadata": {
  "kernelspec": {
   "display_name": "Python 3",
   "language": "python",
   "name": "python3"
  },
  "language_info": {
   "codemirror_mode": {
    "name": "ipython",
    "version": 3
   },
   "file_extension": ".py",
   "mimetype": "text/x-python",
   "name": "python",
   "nbconvert_exporter": "python",
   "pygments_lexer": "ipython3",
   "version": "3.6.5"
  }
 },
 "nbformat": 4,
 "nbformat_minor": 2
}
